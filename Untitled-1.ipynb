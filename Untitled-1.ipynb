{
 "cells": [
  {
   "cell_type": "code",
   "execution_count": 1,
   "id": "a67c8f0f",
   "metadata": {},
   "outputs": [
    {
     "name": "stderr",
     "output_type": "stream",
     "text": [
      "2025-05-30 18:15:00.761 \n",
      "  \u001b[33m\u001b[1mWarning:\u001b[0m to view this Streamlit app on a browser, run it with the following\n",
      "  command:\n",
      "\n",
      "    streamlit run C:\\Users\\wanje\\AppData\\Roaming\\Python\\Python312\\site-packages\\ipykernel_launcher.py [ARGUMENTS]\n",
      "2025-05-30 18:15:00.772 Session state does not function when running a script without `streamlit run`\n"
     ]
    }
   ],
   "source": [
    "import streamlit as st\n",
    "import pandas as pd\n",
    "import matplotlib.pyplot as plt\n",
    "\n",
    "st.title(\"나의 하루 기록하기\")\n",
    "\n",
    "# 활동 시간 입력\n",
    "study = st.number_input(\"공부한 시간 (시간)\", min_value=0.0, max_value=24.0, step=0.5)\n",
    "youtube = st.number_input(\"유튜브 본 시간 (시간)\", min_value=0.0, max_value=24.0, step=0.5)\n",
    "sleep = st.number_input(\"잠 잔 시간 (시간)\", min_value=0.0, max_value=24.0, step=0.5)\n",
    "\n",
    "# 저장 버튼\n",
    "if st.button(\"기록 저장\"):\n",
    "    df = pd.DataFrame({\n",
    "        \"활동\": [\"공부\", \"유튜브\", \"수면\"],\n",
    "        \"시간\": [study, youtube, sleep]\n",
    "    })\n",
    "    st.write(\"📊 당신의 시간 분포:\")\n",
    "    fig, ax = plt.subplots()\n",
    "    ax.pie(df[\"시간\"], labels=df[\"활동\"], autopct=\"%1.1f%%\")\n",
    "    st.pyplot(fig)\n"
   ]
  }
 ],
 "metadata": {
  "kernelspec": {
   "display_name": "base",
   "language": "python",
   "name": "python3"
  },
  "language_info": {
   "codemirror_mode": {
    "name": "ipython",
    "version": 3
   },
   "file_extension": ".py",
   "mimetype": "text/x-python",
   "name": "python",
   "nbconvert_exporter": "python",
   "pygments_lexer": "ipython3",
   "version": "3.12.7"
  }
 },
 "nbformat": 4,
 "nbformat_minor": 5
}
